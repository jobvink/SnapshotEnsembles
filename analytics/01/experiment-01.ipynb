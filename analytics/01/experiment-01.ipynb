{
 "cells": [
  {
   "cell_type": "code",
   "execution_count": 4,
   "metadata": {},
   "outputs": [
    {
     "name": "stdout",
     "output_type": "stream",
     "text": [
      "        acc   val_acc\n",
      "1  0.042760  0.054535\n",
      "2  0.066715  0.038776\n",
      "3  0.105345  0.086621\n",
      "4  0.104665  0.056122\n"
     ]
    },
    {
     "data": {
      "text/plain": [
       "<AxesSubplot:xlabel='Epochs', ylabel='Accuracy'>"
      ]
     },
     "execution_count": 4,
     "metadata": {},
     "output_type": "execute_result"
    },
    {
     "data": {
      "image/png": "[encoded data removed]",
      "text/plain": [
       "<Figure size 432x288 with 1 Axes>"
      ]
     },
     "metadata": {},
     "output_type": "display_data"
    }
   ],
   "source": [
    "import numpy as np\n",
    "import pandas as pd\n",
    "import seaborn as sns\n",
    "import matplotlib.pyplot as plt\n",
    "\n",
    "raw_data = pd.read_csv('DenseNet-CIFAR100-40-12-snapshot-1 training.csv')\n",
    "raw_data = raw_data.drop(['Unnamed: 0', 'Unnamed: 1', 'lr', 'val_loss', 'loss'], axis=1)\n",
    "raw_data.index += 1\n",
    "print(raw_data.head())\n",
    "\n",
    "sns.set_theme()\n",
    "plt.xlabel('Epochs')\n",
    "plt.ylabel('Accuracy')\n",
    "sns.lineplot(data=raw_data)"
   ]
  },
  {
   "cell_type": "markdown",
   "metadata": {},
   "source": [
    "## Ensemble snapshots and produce results 'over_time'\n"
   ]
  },
  {
   "cell_type": "code",
   "execution_count": 12,
   "metadata": {},
   "outputs": [],
   "source": [
    "import sys\n",
    "sys.path.append(\"../..\")\n",
    "from models import dense_net as DN\n",
    "\n",
    "import numpy as np\n",
    "import sklearn.metrics as metrics\n",
    "from scipy.optimize import minimize\n",
    "from sklearn.metrics import log_loss\n",
    "\n",
    "from tensorflow.keras.datasets import cifar100\n",
    "from tensorflow.keras import backend as K\n",
    "import tensorflow.keras.utils as kutils"
   ]
  },
  {
   "cell_type": "code",
   "execution_count": 22,
   "metadata": {},
   "outputs": [],
   "source": [
    "(trainX, trainY), (testX, testY) = cifar100.load_data()\n",
    "nb_classes = len(np.unique(testY))\n",
    "\n",
    "trainX = trainX.astype('float32')\n",
    "trainX /= 255.0\n",
    "testX = testX.astype('float32')\n",
    "testX /= 255.0\n",
    "\n",
    "trainY = kutils.to_categorical(trainY)\n",
    "testY_cat = kutils.to_categorical(testY)\n",
    "\n",
    "NUM_TESTS=25"
   ]
  },
  {
   "cell_type": "code",
   "execution_count": 23,
   "metadata": {},
   "outputs": [
    {
     "name": "stdout",
     "output_type": "stream",
     "text": [
      "DenseNet-40-12 created.\n",
      "Obtained predictions from model with weights = DenseNet-CIFAR100-40-12-snapshot-0-1.h5\n",
      "Obtained predictions from model with weights = DenseNet-CIFAR100-40-12-snapshot-1-1.h5\n"
     ]
    }
   ],
   "source": [
    "dense_net_model = DN.create_dense_net(nb_classes=100, img_dim=(32, 32, 3), depth=40, nb_dense_block=1,\n",
    "                                growth_rate=12, nb_filter=16, dropout_rate=0.2)\n",
    "\n",
    "n_batches = 2\n",
    "file_list =[f'DenseNet-CIFAR100-40-12-snapshot-{j}-1.h5' for j in range(n_batches)]\n",
    "\n",
    "preds = []\n",
    "for fn in file_list:\n",
    "    dense_net_model.load_weights(fn)\n",
    "    yPreds = dense_net_model.predict(testX, batch_size=128)\n",
    "    preds.append(yPreds)\n",
    "\n",
    "    print(\"Obtained predictions from model with weights = %s\" % (fn))"
   ]
  },
  {
   "cell_type": "code",
   "execution_count": 24,
   "metadata": {},
   "outputs": [],
   "source": [
    "def calculate_weighted_accuracy(prediction_weights):\n",
    "    weighted_predictions = np.zeros((testX.shape[0], nb_classes), dtype='float32')\n",
    "    for weight, prediction in zip(prediction_weights, preds):\n",
    "        weighted_predictions += weight * prediction\n",
    "    yPred = np.argmax(weighted_predictions, axis=1)\n",
    "    yTrue = testY\n",
    "    accuracy = metrics.accuracy_score(yTrue, yPred) * 100\n",
    "    error = 100 - accuracy\n",
    "    print(\"Accuracy : \", accuracy)\n",
    "    print(\"Error : \", error)"
   ]
  },
  {
   "cell_type": "code",
   "execution_count": 25,
   "metadata": {},
   "outputs": [],
   "source": [
    "# Create the loss metric\n",
    "n_snapshots = 0\n",
    "def log_loss_func(weights):\n",
    "    ''' scipy minimize will pass the weights as a numpy array '''\n",
    "    final_prediction = np.zeros((testX.shape[0], nb_classes), dtype='float32')\n",
    "\n",
    "    for weight, prediction in zip(weights, preds[:n_snapshots]):\n",
    "        final_prediction += weight * prediction\n",
    "\n",
    "    return log_loss(testY_cat, final_prediction)"
   ]
  },
  {
   "cell_type": "code",
   "execution_count": 26,
   "metadata": {},
   "outputs": [],
   "source": [
    "def get_accuracy_for_n_snapshots(n_snapshots):\n",
    "    best_acc = 0.0\n",
    "    best_weights = None\n",
    "\n",
    "    # Parameters for optimization\n",
    "    constraints = ({'type': 'eq', 'fun':lambda w: 1 - sum(w)})\n",
    "    bounds = [(0, 1)] * n_snapshots\n",
    "\n",
    "    # Check for NUM_TESTS times\n",
    "    for iteration in range(NUM_TESTS):\n",
    "        # Random initialization of weights\n",
    "        prediction_weights = np.random.random(n_snapshots)\n",
    "        \n",
    "        # Minimise the loss \n",
    "        result = minimize(log_loss_func, prediction_weights, method='SLSQP', bounds=bounds, constraints=constraints)\n",
    "        print('Best Ensemble Weights: {weights}'.format(weights=result['x']))\n",
    "        \n",
    "        weights = result['x']\n",
    "        weighted_predictions = np.zeros((testX.shape[0], nb_classes), dtype='float32')\n",
    "        \n",
    "        # Calculate weighted predictions\n",
    "        for weight, prediction in zip(weights, preds[:n_snapshots]):\n",
    "            weighted_predictions += weight * prediction\n",
    "\n",
    "        yPred = np.argmax(weighted_predictions, axis=1)\n",
    "        yTrue = testY\n",
    "\n",
    "        # Calculate weight prediction accuracy\n",
    "        accuracy = metrics.accuracy_score(yTrue, yPred) * 100\n",
    "        error = 100 - accuracy\n",
    "        print(\"Iteration %d: Accuracy : \" % (iteration + 1), accuracy)\n",
    "        print(\"Iteration %d: Error : \" % (iteration + 1), error)\n",
    "        \n",
    "        # Save current best weights \n",
    "        if accuracy > best_acc:\n",
    "            best_acc = accuracy\n",
    "            best_weights = weights\n",
    "            \n",
    "        print()\n",
    "\n",
    "        return accuracy"
   ]
  },
  {
   "cell_type": "code",
   "execution_count": 35,
   "metadata": {},
   "outputs": [
    {
     "name": "stdout",
     "output_type": "stream",
     "text": [
      "Best Ensemble Weights: [1.]\n",
      "Iteration 1: Accuracy :  1.76\n",
      "Iteration 1: Error :  98.24\n",
      "\n",
      "Best Ensemble Weights: [0.87706663 0.12293337]\n",
      "Iteration 1: Accuracy :  2.42\n",
      "Iteration 1: Error :  97.58\n",
      "\n"
     ]
    },
    {
     "data": {
      "text/plain": [
       "<AxesSubplot:>"
      ]
     },
     "execution_count": 35,
     "metadata": {},
     "output_type": "execute_result"
    },
    {
     "data": {
      "image/png": "[encoded data removed]",
      "text/plain": [
       "<Figure size 432x288 with 1 Axes>"
      ]
     },
     "metadata": {},
     "output_type": "display_data"
    }
   ],
   "source": [
    "results = []\n",
    "for i in range(1, n_batches + 1):\n",
    "    # Compile list of units\n",
    "    n_snapshots = i\n",
    "    results.append(get_accuracy_for_n_snapshots(i))\n",
    "    \n",
    "sns.lineplot(data=raw_data)\n",
    "sns.lineplot(x=np.arange(1, len(results) + 1), y=results)"
   ]
  },
  {
   "cell_type": "code",
   "execution_count": null,
   "metadata": {},
   "outputs": [],
   "source": []
  }
 ],
 "metadata": {
  "kernelspec": {
   "display_name": "Python 3",
   "language": "python",
   "name": "python3"
  },
  "language_info": {
   "codemirror_mode": {
    "name": "ipython",
    "version": 3
   },
   "file_extension": ".py",
   "mimetype": "text/x-python",
   "name": "python",
   "nbconvert_exporter": "python",
   "pygments_lexer": "ipython3",
   "version": "3.7.9"
  }
 },
 "nbformat": 4,
 "nbformat_minor": 2
}
